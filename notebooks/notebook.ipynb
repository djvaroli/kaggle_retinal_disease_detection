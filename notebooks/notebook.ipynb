{
 "cells": [
  {
   "cell_type": "markdown",
   "source": "# Data Processing",
   "metadata": {
    "tags": [],
    "cell_id": "00000-62ca1e98-ab38-4898-8555-643e703c60f3",
    "deepnote_cell_type": "text-cell-h1"
   }
  },
  {
   "cell_type": "code",
   "metadata": {
    "tags": [],
    "cell_id": "00000-47e6f341-a43a-4940-b197-6f06bb784be2",
    "deepnote_to_be_reexecuted": false,
    "source_hash": "3a422b8c",
    "execution_start": 1620441632681,
    "execution_millis": 6042,
    "output_cleared": true,
    "deepnote_cell_type": "code"
   },
   "source": "!unzip Data.zip",
   "execution_count": null,
   "outputs": []
  },
  {
   "cell_type": "code",
   "metadata": {
    "tags": [],
    "cell_id": "00002-a7f43afd-c44b-4861-a5f2-58822f05beb6",
    "deepnote_to_be_reexecuted": false,
    "source_hash": "da50ff52",
    "execution_start": 1620443401239,
    "execution_millis": 2195,
    "deepnote_cell_type": "code"
   },
   "source": "import os\nfrom typing import *\nfrom pathlib import Path\n\nimport numpy as np\nimport pandas as pd\nimport matplotlib.pyplot as plt\nimport tensorflow as tf\nfrom tensorflow.keras.preprocessing import image\nfrom tensorflow.keras import layers\nfrom tensorflow.keras.models import Model, Sequential\nfrom tensorflow.keras.preprocessing.image import ImageDataGenerator\n\ndata_dir = \"../../Data\"\ntrain_data_dir = Path(os.path.join(data_dir, \"train\"))\ntest_data_dir = Path(os.path.join(data_dir, \"test\"))\ntrain_images_dir = Path(os.path.join(train_data_dir, \"train\"))\ntest_images_dir = Path(os.path.join(test_data_dir, \"test\"))",
   "execution_count": null,
   "outputs": []
  },
  {
   "cell_type": "code",
   "metadata": {
    "tags": [],
    "cell_id": "00002-28a3243d-9721-4548-80cb-440a862b49de",
    "deepnote_to_be_reexecuted": false,
    "source_hash": "91df265c",
    "execution_start": 1620443403439,
    "execution_millis": 18,
    "deepnote_cell_type": "code"
   },
   "source": "df = pd.read_csv(train_data_dir / \"train.csv\")",
   "execution_count": null,
   "outputs": []
  },
  {
   "cell_type": "code",
   "metadata": {
    "tags": [],
    "cell_id": "00003-5585ed88-c854-4f52-88ab-d4fd5c73f255",
    "deepnote_to_be_reexecuted": false,
    "source_hash": "381c0a56",
    "execution_start": 1620443403486,
    "execution_millis": 15,
    "deepnote_cell_type": "code"
   },
   "source": "# get a basic idea of what the csv datat looks like\ndf.head()",
   "execution_count": null,
   "outputs": [
    {
     "output_type": "execute_result",
     "execution_count": 4,
     "data": {
      "application/vnd.deepnote.dataframe.v2+json": {
       "row_count": 5,
       "column_count": 8,
       "columns": [
        {
         "name": "filename",
         "dtype": "object",
         "stats": {
          "unique_count": 5,
          "nan_count": 0,
          "categories": [
           {
            "name": "c24a1b14d253.jpg",
            "count": 1
           },
           {
            "name": "9ee905a41651.jpg",
            "count": 1
           },
           {
            "name": "3 others",
            "count": 3
           }
          ]
         }
        },
        {
         "name": "opacity",
         "dtype": "int64",
         "stats": {
          "unique_count": 2,
          "nan_count": 0,
          "min": "0",
          "max": "1",
          "histogram": [
           {
            "bin_start": 0,
            "bin_end": 0.1,
            "count": 3
           },
           {
            "bin_start": 0.1,
            "bin_end": 0.2,
            "count": 0
           },
           {
            "bin_start": 0.2,
            "bin_end": 0.30000000000000004,
            "count": 0
           },
           {
            "bin_start": 0.30000000000000004,
            "bin_end": 0.4,
            "count": 0
           },
           {
            "bin_start": 0.4,
            "bin_end": 0.5,
            "count": 0
           },
           {
            "bin_start": 0.5,
            "bin_end": 0.6000000000000001,
            "count": 0
           },
           {
            "bin_start": 0.6000000000000001,
            "bin_end": 0.7000000000000001,
            "count": 0
           },
           {
            "bin_start": 0.7000000000000001,
            "bin_end": 0.8,
            "count": 0
           },
           {
            "bin_start": 0.8,
            "bin_end": 0.9,
            "count": 0
           },
           {
            "bin_start": 0.9,
            "bin_end": 1,
            "count": 2
           }
          ]
         }
        },
        {
         "name": "diabetic retinopathy",
         "dtype": "int64",
         "stats": {
          "unique_count": 1,
          "nan_count": 0,
          "min": "0",
          "max": "0",
          "histogram": [
           {
            "bin_start": -0.5,
            "bin_end": -0.4,
            "count": 0
           },
           {
            "bin_start": -0.4,
            "bin_end": -0.3,
            "count": 0
           },
           {
            "bin_start": -0.3,
            "bin_end": -0.19999999999999996,
            "count": 0
           },
           {
            "bin_start": -0.19999999999999996,
            "bin_end": -0.09999999999999998,
            "count": 0
           },
           {
            "bin_start": -0.09999999999999998,
            "bin_end": 0,
            "count": 0
           },
           {
            "bin_start": 0,
            "bin_end": 0.10000000000000009,
            "count": 5
           },
           {
            "bin_start": 0.10000000000000009,
            "bin_end": 0.20000000000000007,
            "count": 0
           },
           {
            "bin_start": 0.20000000000000007,
            "bin_end": 0.30000000000000004,
            "count": 0
           },
           {
            "bin_start": 0.30000000000000004,
            "bin_end": 0.4,
            "count": 0
           },
           {
            "bin_start": 0.4,
            "bin_end": 0.5,
            "count": 0
           }
          ]
         }
        },
        {
         "name": "glaucoma",
         "dtype": "int64",
         "stats": {
          "unique_count": 2,
          "nan_count": 0,
          "min": "0",
          "max": "1",
          "histogram": [
           {
            "bin_start": 0,
            "bin_end": 0.1,
            "count": 4
           },
           {
            "bin_start": 0.1,
            "bin_end": 0.2,
            "count": 0
           },
           {
            "bin_start": 0.2,
            "bin_end": 0.30000000000000004,
            "count": 0
           },
           {
            "bin_start": 0.30000000000000004,
            "bin_end": 0.4,
            "count": 0
           },
           {
            "bin_start": 0.4,
            "bin_end": 0.5,
            "count": 0
           },
           {
            "bin_start": 0.5,
            "bin_end": 0.6000000000000001,
            "count": 0
           },
           {
            "bin_start": 0.6000000000000001,
            "bin_end": 0.7000000000000001,
            "count": 0
           },
           {
            "bin_start": 0.7000000000000001,
            "bin_end": 0.8,
            "count": 0
           },
           {
            "bin_start": 0.8,
            "bin_end": 0.9,
            "count": 0
           },
           {
            "bin_start": 0.9,
            "bin_end": 1,
            "count": 1
           }
          ]
         }
        },
        {
         "name": "macular edema",
         "dtype": "int64",
         "stats": {
          "unique_count": 1,
          "nan_count": 0,
          "min": "0",
          "max": "0",
          "histogram": [
           {
            "bin_start": -0.5,
            "bin_end": -0.4,
            "count": 0
           },
           {
            "bin_start": -0.4,
            "bin_end": -0.3,
            "count": 0
           },
           {
            "bin_start": -0.3,
            "bin_end": -0.19999999999999996,
            "count": 0
           },
           {
            "bin_start": -0.19999999999999996,
            "bin_end": -0.09999999999999998,
            "count": 0
           },
           {
            "bin_start": -0.09999999999999998,
            "bin_end": 0,
            "count": 0
           },
           {
            "bin_start": 0,
            "bin_end": 0.10000000000000009,
            "count": 5
           },
           {
            "bin_start": 0.10000000000000009,
            "bin_end": 0.20000000000000007,
            "count": 0
           },
           {
            "bin_start": 0.20000000000000007,
            "bin_end": 0.30000000000000004,
            "count": 0
           },
           {
            "bin_start": 0.30000000000000004,
            "bin_end": 0.4,
            "count": 0
           },
           {
            "bin_start": 0.4,
            "bin_end": 0.5,
            "count": 0
           }
          ]
         }
        },
        {
         "name": "macular degeneration",
         "dtype": "int64",
         "stats": {
          "unique_count": 2,
          "nan_count": 0,
          "min": "0",
          "max": "1",
          "histogram": [
           {
            "bin_start": 0,
            "bin_end": 0.1,
            "count": 3
           },
           {
            "bin_start": 0.1,
            "bin_end": 0.2,
            "count": 0
           },
           {
            "bin_start": 0.2,
            "bin_end": 0.30000000000000004,
            "count": 0
           },
           {
            "bin_start": 0.30000000000000004,
            "bin_end": 0.4,
            "count": 0
           },
           {
            "bin_start": 0.4,
            "bin_end": 0.5,
            "count": 0
           },
           {
            "bin_start": 0.5,
            "bin_end": 0.6000000000000001,
            "count": 0
           },
           {
            "bin_start": 0.6000000000000001,
            "bin_end": 0.7000000000000001,
            "count": 0
           },
           {
            "bin_start": 0.7000000000000001,
            "bin_end": 0.8,
            "count": 0
           },
           {
            "bin_start": 0.8,
            "bin_end": 0.9,
            "count": 0
           },
           {
            "bin_start": 0.9,
            "bin_end": 1,
            "count": 2
           }
          ]
         }
        },
        {
         "name": "retinal vascular occlusion",
         "dtype": "int64",
         "stats": {
          "unique_count": 2,
          "nan_count": 0,
          "min": "0",
          "max": "1",
          "histogram": [
           {
            "bin_start": 0,
            "bin_end": 0.1,
            "count": 3
           },
           {
            "bin_start": 0.1,
            "bin_end": 0.2,
            "count": 0
           },
           {
            "bin_start": 0.2,
            "bin_end": 0.30000000000000004,
            "count": 0
           },
           {
            "bin_start": 0.30000000000000004,
            "bin_end": 0.4,
            "count": 0
           },
           {
            "bin_start": 0.4,
            "bin_end": 0.5,
            "count": 0
           },
           {
            "bin_start": 0.5,
            "bin_end": 0.6000000000000001,
            "count": 0
           },
           {
            "bin_start": 0.6000000000000001,
            "bin_end": 0.7000000000000001,
            "count": 0
           },
           {
            "bin_start": 0.7000000000000001,
            "bin_end": 0.8,
            "count": 0
           },
           {
            "bin_start": 0.8,
            "bin_end": 0.9,
            "count": 0
           },
           {
            "bin_start": 0.9,
            "bin_end": 1,
            "count": 2
           }
          ]
         }
        },
        {
         "name": "normal",
         "dtype": "int64",
         "stats": {
          "unique_count": 1,
          "nan_count": 0,
          "min": "0",
          "max": "0",
          "histogram": [
           {
            "bin_start": -0.5,
            "bin_end": -0.4,
            "count": 0
           },
           {
            "bin_start": -0.4,
            "bin_end": -0.3,
            "count": 0
           },
           {
            "bin_start": -0.3,
            "bin_end": -0.19999999999999996,
            "count": 0
           },
           {
            "bin_start": -0.19999999999999996,
            "bin_end": -0.09999999999999998,
            "count": 0
           },
           {
            "bin_start": -0.09999999999999998,
            "bin_end": 0,
            "count": 0
           },
           {
            "bin_start": 0,
            "bin_end": 0.10000000000000009,
            "count": 5
           },
           {
            "bin_start": 0.10000000000000009,
            "bin_end": 0.20000000000000007,
            "count": 0
           },
           {
            "bin_start": 0.20000000000000007,
            "bin_end": 0.30000000000000004,
            "count": 0
           },
           {
            "bin_start": 0.30000000000000004,
            "bin_end": 0.4,
            "count": 0
           },
           {
            "bin_start": 0.4,
            "bin_end": 0.5,
            "count": 0
           }
          ]
         }
        },
        {
         "name": "_deepnote_index_column",
         "dtype": "int64"
        }
       ],
       "rows_top": [
        {
         "filename": "c24a1b14d253.jpg",
         "opacity": 0,
         "diabetic retinopathy": 0,
         "glaucoma": 0,
         "macular edema": 0,
         "macular degeneration": 0,
         "retinal vascular occlusion": 1,
         "normal": 0,
         "_deepnote_index_column": 0
        },
        {
         "filename": "9ee905a41651.jpg",
         "opacity": 0,
         "diabetic retinopathy": 0,
         "glaucoma": 0,
         "macular edema": 0,
         "macular degeneration": 0,
         "retinal vascular occlusion": 1,
         "normal": 0,
         "_deepnote_index_column": 1
        },
        {
         "filename": "3f58d128caf6.jpg",
         "opacity": 0,
         "diabetic retinopathy": 0,
         "glaucoma": 1,
         "macular edema": 0,
         "macular degeneration": 0,
         "retinal vascular occlusion": 0,
         "normal": 0,
         "_deepnote_index_column": 2
        },
        {
         "filename": "4ce6599e7b20.jpg",
         "opacity": 1,
         "diabetic retinopathy": 0,
         "glaucoma": 0,
         "macular edema": 0,
         "macular degeneration": 1,
         "retinal vascular occlusion": 0,
         "normal": 0,
         "_deepnote_index_column": 3
        },
        {
         "filename": "0def470360e4.jpg",
         "opacity": 1,
         "diabetic retinopathy": 0,
         "glaucoma": 0,
         "macular edema": 0,
         "macular degeneration": 1,
         "retinal vascular occlusion": 0,
         "normal": 0,
         "_deepnote_index_column": 4
        }
       ],
       "rows_bottom": null
      },
      "text/plain": "           filename  opacity  diabetic retinopathy  glaucoma  macular edema  \\\n0  c24a1b14d253.jpg        0                     0         0              0   \n1  9ee905a41651.jpg        0                     0         0              0   \n2  3f58d128caf6.jpg        0                     0         1              0   \n3  4ce6599e7b20.jpg        1                     0         0              0   \n4  0def470360e4.jpg        1                     0         0              0   \n\n   macular degeneration  retinal vascular occlusion  normal  \n0                     0                           1       0  \n1                     0                           1       0  \n2                     0                           0       0  \n3                     1                           0       0  \n4                     1                           0       0  ",
      "text/html": "<div>\n<style scoped>\n    .dataframe tbody tr th:only-of-type {\n        vertical-align: middle;\n    }\n\n    .dataframe tbody tr th {\n        vertical-align: top;\n    }\n\n    .dataframe thead th {\n        text-align: right;\n    }\n</style>\n<table border=\"1\" class=\"dataframe\">\n  <thead>\n    <tr style=\"text-align: right;\">\n      <th></th>\n      <th>filename</th>\n      <th>opacity</th>\n      <th>diabetic retinopathy</th>\n      <th>glaucoma</th>\n      <th>macular edema</th>\n      <th>macular degeneration</th>\n      <th>retinal vascular occlusion</th>\n      <th>normal</th>\n    </tr>\n  </thead>\n  <tbody>\n    <tr>\n      <th>0</th>\n      <td>c24a1b14d253.jpg</td>\n      <td>0</td>\n      <td>0</td>\n      <td>0</td>\n      <td>0</td>\n      <td>0</td>\n      <td>1</td>\n      <td>0</td>\n    </tr>\n    <tr>\n      <th>1</th>\n      <td>9ee905a41651.jpg</td>\n      <td>0</td>\n      <td>0</td>\n      <td>0</td>\n      <td>0</td>\n      <td>0</td>\n      <td>1</td>\n      <td>0</td>\n    </tr>\n    <tr>\n      <th>2</th>\n      <td>3f58d128caf6.jpg</td>\n      <td>0</td>\n      <td>0</td>\n      <td>1</td>\n      <td>0</td>\n      <td>0</td>\n      <td>0</td>\n      <td>0</td>\n    </tr>\n    <tr>\n      <th>3</th>\n      <td>4ce6599e7b20.jpg</td>\n      <td>1</td>\n      <td>0</td>\n      <td>0</td>\n      <td>0</td>\n      <td>1</td>\n      <td>0</td>\n      <td>0</td>\n    </tr>\n    <tr>\n      <th>4</th>\n      <td>0def470360e4.jpg</td>\n      <td>1</td>\n      <td>0</td>\n      <td>0</td>\n      <td>0</td>\n      <td>1</td>\n      <td>0</td>\n      <td>0</td>\n    </tr>\n  </tbody>\n</table>\n</div>"
     },
     "metadata": {}
    }
   ]
  },
  {
   "cell_type": "code",
   "metadata": {
    "tags": [],
    "cell_id": "00004-c6c06760-815f-477a-8069-4ebe909909e2",
    "deepnote_to_be_reexecuted": false,
    "source_hash": "c65cb3f6",
    "execution_start": 1620443403499,
    "execution_millis": 47,
    "deepnote_cell_type": "code"
   },
   "source": "# Some statistics about the data, though they are not very useful since\n# we are looking at binary encoded data, but still goot to look at\ndf.describe()",
   "execution_count": null,
   "outputs": [
    {
     "output_type": "execute_result",
     "execution_count": 5,
     "data": {
      "application/vnd.deepnote.dataframe.v2+json": {
       "row_count": 8,
       "column_count": 7,
       "columns": [
        {
         "name": "opacity",
         "dtype": "float64",
         "stats": {
          "unique_count": 5,
          "nan_count": 0,
          "min": "0.0",
          "max": "3435.0",
          "histogram": [
           {
            "bin_start": 0,
            "bin_end": 343.5,
            "count": 7
           },
           {
            "bin_start": 343.5,
            "bin_end": 687,
            "count": 0
           },
           {
            "bin_start": 687,
            "bin_end": 1030.5,
            "count": 0
           },
           {
            "bin_start": 1030.5,
            "bin_end": 1374,
            "count": 0
           },
           {
            "bin_start": 1374,
            "bin_end": 1717.5,
            "count": 0
           },
           {
            "bin_start": 1717.5,
            "bin_end": 2061,
            "count": 0
           },
           {
            "bin_start": 2061,
            "bin_end": 2404.5,
            "count": 0
           },
           {
            "bin_start": 2404.5,
            "bin_end": 2748,
            "count": 0
           },
           {
            "bin_start": 2748,
            "bin_end": 3091.5,
            "count": 0
           },
           {
            "bin_start": 3091.5,
            "bin_end": 3435,
            "count": 1
           }
          ]
         }
        },
        {
         "name": "diabetic retinopathy",
         "dtype": "float64",
         "stats": {
          "unique_count": 5,
          "nan_count": 0,
          "min": "0.0",
          "max": "3435.0",
          "histogram": [
           {
            "bin_start": 0,
            "bin_end": 343.5,
            "count": 7
           },
           {
            "bin_start": 343.5,
            "bin_end": 687,
            "count": 0
           },
           {
            "bin_start": 687,
            "bin_end": 1030.5,
            "count": 0
           },
           {
            "bin_start": 1030.5,
            "bin_end": 1374,
            "count": 0
           },
           {
            "bin_start": 1374,
            "bin_end": 1717.5,
            "count": 0
           },
           {
            "bin_start": 1717.5,
            "bin_end": 2061,
            "count": 0
           },
           {
            "bin_start": 2061,
            "bin_end": 2404.5,
            "count": 0
           },
           {
            "bin_start": 2404.5,
            "bin_end": 2748,
            "count": 0
           },
           {
            "bin_start": 2748,
            "bin_end": 3091.5,
            "count": 0
           },
           {
            "bin_start": 3091.5,
            "bin_end": 3435,
            "count": 1
           }
          ]
         }
        },
        {
         "name": "glaucoma",
         "dtype": "float64",
         "stats": {
          "unique_count": 5,
          "nan_count": 0,
          "min": "0.0",
          "max": "3435.0",
          "histogram": [
           {
            "bin_start": 0,
            "bin_end": 343.5,
            "count": 7
           },
           {
            "bin_start": 343.5,
            "bin_end": 687,
            "count": 0
           },
           {
            "bin_start": 687,
            "bin_end": 1030.5,
            "count": 0
           },
           {
            "bin_start": 1030.5,
            "bin_end": 1374,
            "count": 0
           },
           {
            "bin_start": 1374,
            "bin_end": 1717.5,
            "count": 0
           },
           {
            "bin_start": 1717.5,
            "bin_end": 2061,
            "count": 0
           },
           {
            "bin_start": 2061,
            "bin_end": 2404.5,
            "count": 0
           },
           {
            "bin_start": 2404.5,
            "bin_end": 2748,
            "count": 0
           },
           {
            "bin_start": 2748,
            "bin_end": 3091.5,
            "count": 0
           },
           {
            "bin_start": 3091.5,
            "bin_end": 3435,
            "count": 1
           }
          ]
         }
        },
        {
         "name": "macular edema",
         "dtype": "float64",
         "stats": {
          "unique_count": 5,
          "nan_count": 0,
          "min": "0.0",
          "max": "3435.0",
          "histogram": [
           {
            "bin_start": 0,
            "bin_end": 343.5,
            "count": 7
           },
           {
            "bin_start": 343.5,
            "bin_end": 687,
            "count": 0
           },
           {
            "bin_start": 687,
            "bin_end": 1030.5,
            "count": 0
           },
           {
            "bin_start": 1030.5,
            "bin_end": 1374,
            "count": 0
           },
           {
            "bin_start": 1374,
            "bin_end": 1717.5,
            "count": 0
           },
           {
            "bin_start": 1717.5,
            "bin_end": 2061,
            "count": 0
           },
           {
            "bin_start": 2061,
            "bin_end": 2404.5,
            "count": 0
           },
           {
            "bin_start": 2404.5,
            "bin_end": 2748,
            "count": 0
           },
           {
            "bin_start": 2748,
            "bin_end": 3091.5,
            "count": 0
           },
           {
            "bin_start": 3091.5,
            "bin_end": 3435,
            "count": 1
           }
          ]
         }
        },
        {
         "name": "macular degeneration",
         "dtype": "float64",
         "stats": {
          "unique_count": 5,
          "nan_count": 0,
          "min": "0.0",
          "max": "3435.0",
          "histogram": [
           {
            "bin_start": 0,
            "bin_end": 343.5,
            "count": 7
           },
           {
            "bin_start": 343.5,
            "bin_end": 687,
            "count": 0
           },
           {
            "bin_start": 687,
            "bin_end": 1030.5,
            "count": 0
           },
           {
            "bin_start": 1030.5,
            "bin_end": 1374,
            "count": 0
           },
           {
            "bin_start": 1374,
            "bin_end": 1717.5,
            "count": 0
           },
           {
            "bin_start": 1717.5,
            "bin_end": 2061,
            "count": 0
           },
           {
            "bin_start": 2061,
            "bin_end": 2404.5,
            "count": 0
           },
           {
            "bin_start": 2404.5,
            "bin_end": 2748,
            "count": 0
           },
           {
            "bin_start": 2748,
            "bin_end": 3091.5,
            "count": 0
           },
           {
            "bin_start": 3091.5,
            "bin_end": 3435,
            "count": 1
           }
          ]
         }
        },
        {
         "name": "retinal vascular occlusion",
         "dtype": "float64",
         "stats": {
          "unique_count": 5,
          "nan_count": 0,
          "min": "0.0",
          "max": "3435.0",
          "histogram": [
           {
            "bin_start": 0,
            "bin_end": 343.5,
            "count": 7
           },
           {
            "bin_start": 343.5,
            "bin_end": 687,
            "count": 0
           },
           {
            "bin_start": 687,
            "bin_end": 1030.5,
            "count": 0
           },
           {
            "bin_start": 1030.5,
            "bin_end": 1374,
            "count": 0
           },
           {
            "bin_start": 1374,
            "bin_end": 1717.5,
            "count": 0
           },
           {
            "bin_start": 1717.5,
            "bin_end": 2061,
            "count": 0
           },
           {
            "bin_start": 2061,
            "bin_end": 2404.5,
            "count": 0
           },
           {
            "bin_start": 2404.5,
            "bin_end": 2748,
            "count": 0
           },
           {
            "bin_start": 2748,
            "bin_end": 3091.5,
            "count": 0
           },
           {
            "bin_start": 3091.5,
            "bin_end": 3435,
            "count": 1
           }
          ]
         }
        },
        {
         "name": "normal",
         "dtype": "float64",
         "stats": {
          "unique_count": 5,
          "nan_count": 0,
          "min": "0.0",
          "max": "3435.0",
          "histogram": [
           {
            "bin_start": 0,
            "bin_end": 343.5,
            "count": 7
           },
           {
            "bin_start": 343.5,
            "bin_end": 687,
            "count": 0
           },
           {
            "bin_start": 687,
            "bin_end": 1030.5,
            "count": 0
           },
           {
            "bin_start": 1030.5,
            "bin_end": 1374,
            "count": 0
           },
           {
            "bin_start": 1374,
            "bin_end": 1717.5,
            "count": 0
           },
           {
            "bin_start": 1717.5,
            "bin_end": 2061,
            "count": 0
           },
           {
            "bin_start": 2061,
            "bin_end": 2404.5,
            "count": 0
           },
           {
            "bin_start": 2404.5,
            "bin_end": 2748,
            "count": 0
           },
           {
            "bin_start": 2748,
            "bin_end": 3091.5,
            "count": 0
           },
           {
            "bin_start": 3091.5,
            "bin_end": 3435,
            "count": 1
           }
          ]
         }
        },
        {
         "name": "_deepnote_index_column",
         "dtype": "object"
        }
       ],
       "rows_top": [
        {
         "opacity": 3435,
         "diabetic retinopathy": 3435,
         "glaucoma": 3435,
         "macular edema": 3435,
         "macular degeneration": 3435,
         "retinal vascular occlusion": 3435,
         "normal": 3435,
         "_deepnote_index_column": "count"
        },
        {
         "opacity": 0.4462882096069869,
         "diabetic retinopathy": 0.2197962154294032,
         "glaucoma": 0.1737991266375546,
         "macular edema": 0.15021834061135372,
         "macular degeneration": 0.1671033478893741,
         "retinal vascular occlusion": 0.12809315866084425,
         "normal": 0.15283842794759825,
         "_deepnote_index_column": "mean"
        },
        {
         "opacity": 0.4971790470797438,
         "diabetic retinopathy": 0.41416877809350466,
         "glaucoma": 0.37899182748336246,
         "macular edema": 0.35733732517289396,
         "macular degeneration": 0.37312243158916153,
         "retinal vascular occlusion": 0.3342421648286442,
         "normal": 0.3598840755758581,
         "_deepnote_index_column": "std"
        },
        {
         "opacity": 0,
         "diabetic retinopathy": 0,
         "glaucoma": 0,
         "macular edema": 0,
         "macular degeneration": 0,
         "retinal vascular occlusion": 0,
         "normal": 0,
         "_deepnote_index_column": "min"
        },
        {
         "opacity": 0,
         "diabetic retinopathy": 0,
         "glaucoma": 0,
         "macular edema": 0,
         "macular degeneration": 0,
         "retinal vascular occlusion": 0,
         "normal": 0,
         "_deepnote_index_column": "25%"
        },
        {
         "opacity": 0,
         "diabetic retinopathy": 0,
         "glaucoma": 0,
         "macular edema": 0,
         "macular degeneration": 0,
         "retinal vascular occlusion": 0,
         "normal": 0,
         "_deepnote_index_column": "50%"
        },
        {
         "opacity": 1,
         "diabetic retinopathy": 0,
         "glaucoma": 0,
         "macular edema": 0,
         "macular degeneration": 0,
         "retinal vascular occlusion": 0,
         "normal": 0,
         "_deepnote_index_column": "75%"
        },
        {
         "opacity": 1,
         "diabetic retinopathy": 1,
         "glaucoma": 1,
         "macular edema": 1,
         "macular degeneration": 1,
         "retinal vascular occlusion": 1,
         "normal": 1,
         "_deepnote_index_column": "max"
        }
       ],
       "rows_bottom": null
      },
      "text/plain": "           opacity  diabetic retinopathy     glaucoma  macular edema  \\\ncount  3435.000000           3435.000000  3435.000000    3435.000000   \nmean      0.446288              0.219796     0.173799       0.150218   \nstd       0.497179              0.414169     0.378992       0.357337   \nmin       0.000000              0.000000     0.000000       0.000000   \n25%       0.000000              0.000000     0.000000       0.000000   \n50%       0.000000              0.000000     0.000000       0.000000   \n75%       1.000000              0.000000     0.000000       0.000000   \nmax       1.000000              1.000000     1.000000       1.000000   \n\n       macular degeneration  retinal vascular occlusion       normal  \ncount           3435.000000                 3435.000000  3435.000000  \nmean               0.167103                    0.128093     0.152838  \nstd                0.373122                    0.334242     0.359884  \nmin                0.000000                    0.000000     0.000000  \n25%                0.000000                    0.000000     0.000000  \n50%                0.000000                    0.000000     0.000000  \n75%                0.000000                    0.000000     0.000000  \nmax                1.000000                    1.000000     1.000000  ",
      "text/html": "<div>\n<style scoped>\n    .dataframe tbody tr th:only-of-type {\n        vertical-align: middle;\n    }\n\n    .dataframe tbody tr th {\n        vertical-align: top;\n    }\n\n    .dataframe thead th {\n        text-align: right;\n    }\n</style>\n<table border=\"1\" class=\"dataframe\">\n  <thead>\n    <tr style=\"text-align: right;\">\n      <th></th>\n      <th>opacity</th>\n      <th>diabetic retinopathy</th>\n      <th>glaucoma</th>\n      <th>macular edema</th>\n      <th>macular degeneration</th>\n      <th>retinal vascular occlusion</th>\n      <th>normal</th>\n    </tr>\n  </thead>\n  <tbody>\n    <tr>\n      <th>count</th>\n      <td>3435.000000</td>\n      <td>3435.000000</td>\n      <td>3435.000000</td>\n      <td>3435.000000</td>\n      <td>3435.000000</td>\n      <td>3435.000000</td>\n      <td>3435.000000</td>\n    </tr>\n    <tr>\n      <th>mean</th>\n      <td>0.446288</td>\n      <td>0.219796</td>\n      <td>0.173799</td>\n      <td>0.150218</td>\n      <td>0.167103</td>\n      <td>0.128093</td>\n      <td>0.152838</td>\n    </tr>\n    <tr>\n      <th>std</th>\n      <td>0.497179</td>\n      <td>0.414169</td>\n      <td>0.378992</td>\n      <td>0.357337</td>\n      <td>0.373122</td>\n      <td>0.334242</td>\n      <td>0.359884</td>\n    </tr>\n    <tr>\n      <th>min</th>\n      <td>0.000000</td>\n      <td>0.000000</td>\n      <td>0.000000</td>\n      <td>0.000000</td>\n      <td>0.000000</td>\n      <td>0.000000</td>\n      <td>0.000000</td>\n    </tr>\n    <tr>\n      <th>25%</th>\n      <td>0.000000</td>\n      <td>0.000000</td>\n      <td>0.000000</td>\n      <td>0.000000</td>\n      <td>0.000000</td>\n      <td>0.000000</td>\n      <td>0.000000</td>\n    </tr>\n    <tr>\n      <th>50%</th>\n      <td>0.000000</td>\n      <td>0.000000</td>\n      <td>0.000000</td>\n      <td>0.000000</td>\n      <td>0.000000</td>\n      <td>0.000000</td>\n      <td>0.000000</td>\n    </tr>\n    <tr>\n      <th>75%</th>\n      <td>1.000000</td>\n      <td>0.000000</td>\n      <td>0.000000</td>\n      <td>0.000000</td>\n      <td>0.000000</td>\n      <td>0.000000</td>\n      <td>0.000000</td>\n    </tr>\n    <tr>\n      <th>max</th>\n      <td>1.000000</td>\n      <td>1.000000</td>\n      <td>1.000000</td>\n      <td>1.000000</td>\n      <td>1.000000</td>\n      <td>1.000000</td>\n      <td>1.000000</td>\n    </tr>\n  </tbody>\n</table>\n</div>"
     },
     "metadata": {}
    }
   ]
  },
  {
   "cell_type": "code",
   "metadata": {
    "tags": [],
    "cell_id": "00005-0f66cf78-f6ca-439c-b96b-d70a88f84f19",
    "deepnote_to_be_reexecuted": false,
    "source_hash": "fef4f922",
    "execution_start": 1620443403585,
    "execution_millis": 5,
    "deepnote_cell_type": "code"
   },
   "source": "# get some info about the data types, non-null counts. \n# Looks like no missing values\ndf.info()",
   "execution_count": null,
   "outputs": [
    {
     "name": "stdout",
     "text": "<class 'pandas.core.frame.DataFrame'>\nRangeIndex: 3435 entries, 0 to 3434\nData columns (total 8 columns):\n #   Column                      Non-Null Count  Dtype \n---  ------                      --------------  ----- \n 0   filename                    3435 non-null   object\n 1   opacity                     3435 non-null   int64 \n 2   diabetic retinopathy        3435 non-null   int64 \n 3   glaucoma                    3435 non-null   int64 \n 4   macular edema               3435 non-null   int64 \n 5   macular degeneration        3435 non-null   int64 \n 6   retinal vascular occlusion  3435 non-null   int64 \n 7   normal                      3435 non-null   int64 \ndtypes: int64(7), object(1)\nmemory usage: 214.8+ KB\n",
     "output_type": "stream"
    }
   ]
  },
  {
   "cell_type": "code",
   "metadata": {
    "tags": [],
    "cell_id": "00006-2f8f42ed-ad6d-4d06-a658-c4d5ced3fe8c",
    "deepnote_to_be_reexecuted": false,
    "source_hash": "2a95643f",
    "execution_start": 1620443404049,
    "execution_millis": 2,
    "deepnote_cell_type": "code"
   },
   "source": "# rename the columns to not have any spaces\ndf.columns = ['filename', 'opacity', 'diabetic_retinopathy', 'glaucoma', 'macular_edema', 'macular_degeneration', 'retinal_vascular_occlusion', 'normal']",
   "execution_count": null,
   "outputs": []
  },
  {
   "cell_type": "markdown",
   "source": "We are interested in classifying diabetic retinopaty and glaucoma vs normal\nhowever, instead of throwing away everything else, let's add a 4th class\ncall it \"other\". This way the model can still learn from those images.\n\nLet's add an additional column, that we will call **label**. Normal will be assigned 0, glaucoma 1, dr - 2 and every other myopathy will be 3\n",
   "metadata": {
    "tags": [],
    "cell_id": "00006-e736f124-725c-4759-821f-97f28020aeb6",
    "deepnote_cell_type": "markdown"
   }
  },
  {
   "cell_type": "code",
   "metadata": {
    "tags": [],
    "cell_id": "00007-3e8e15a6-37bc-4fe6-85b9-519ae51a7d8b",
    "deepnote_to_be_reexecuted": false,
    "source_hash": "63d917c3",
    "execution_start": 1620443404886,
    "execution_millis": 1,
    "deepnote_cell_type": "code"
   },
   "source": "# initialize with all 3s, this way we only need to modify \n# the labels of the diseases we are interested in classifying\nclass_labels = {\n    'normal': 0,\n    'glaucoma': 1,\n    'diabetic_retinopathy': 2,\n    'other': 3\n}\n\ndf['label'] = (len(class_labels) - 1) * np.ones(df.shape[0])",
   "execution_count": null,
   "outputs": []
  },
  {
   "cell_type": "code",
   "metadata": {
    "tags": [],
    "cell_id": "00008-9ead6503-dbc8-4b66-89db-730352a8243d",
    "deepnote_to_be_reexecuted": false,
    "source_hash": "d4ce4cc0",
    "execution_start": 1620443405585,
    "execution_millis": 7,
    "deepnote_cell_type": "code"
   },
   "source": "for class_name, label in class_labels.items():\n  if class_name == 'other':\n    continue\n  df.loc[(df[class_name] == 1), 'label'] = int(label)\ndf.label = df.label.astype(np.int16)",
   "execution_count": null,
   "outputs": []
  },
  {
   "cell_type": "code",
   "metadata": {
    "tags": [],
    "cell_id": "00010-f4ca7c10-8b36-42aa-9679-2c6c3d8aee51",
    "deepnote_to_be_reexecuted": false,
    "source_hash": "b00f9cb6",
    "execution_start": 1620443504864,
    "execution_millis": 7,
    "deepnote_cell_type": "code"
   },
   "source": "# count how many we have in each class\n# it looks like classes 0, 1, 2 are somewhat balanced \n# clearly the other class has significantly more entries, which may be a problem\n# lets try subsampling the \"other\" class and only keep 600 random values\ndf.label.value_counts()",
   "execution_count": null,
   "outputs": [
    {
     "output_type": "execute_result",
     "execution_count": 20,
     "data": {
      "text/plain": "3    1577\n2     755\n1     578\n0     525\nName: label, dtype: int64"
     },
     "metadata": {}
    }
   ]
  },
  {
   "cell_type": "code",
   "metadata": {
    "tags": [],
    "cell_id": "00012-ee972d15-8e14-4ceb-8ba3-c01242c8a9ad",
    "deepnote_to_be_reexecuted": false,
    "source_hash": "10641e6c",
    "execution_start": 1620443505398,
    "execution_millis": 11,
    "deepnote_cell_type": "code"
   },
   "source": "subsampled_df = df[df.label == 3].sample(n=600)\nno_other_df = df[df.label != 3]\nnew_df = pd.concat([no_other_df, subsampled_df])\nnew_df.label.value_counts()",
   "execution_count": null,
   "outputs": [
    {
     "output_type": "execute_result",
     "execution_count": 21,
     "data": {
      "text/plain": "2    755\n3    600\n1    578\n0    525\nName: label, dtype: int64"
     },
     "metadata": {}
    }
   ]
  },
  {
   "cell_type": "markdown",
   "source": "For the next step we will create the train/validation splits.\n\nWe will use 70% as the training data and 30% as the validation data",
   "metadata": {
    "tags": [],
    "cell_id": "00013-c94c930b-0d32-4f97-b76f-2f9976709f6a",
    "deepnote_cell_type": "markdown"
   }
  },
  {
   "cell_type": "code",
   "metadata": {
    "tags": [],
    "cell_id": "00014-7eb79339-8a0e-4528-b8fe-ee1218eee5ce",
    "deepnote_to_be_reexecuted": false,
    "source_hash": "7f971a43",
    "execution_start": 1620443760210,
    "execution_millis": 2,
    "deepnote_cell_type": "code"
   },
   "source": "# use a trick to not have to do complicated index manipulations\nmask = np.random.rand(len(new_df)) < 0.7\ntrain_df = new_df[mask]\nval_df = new_df[~mask]",
   "execution_count": null,
   "outputs": []
  },
  {
   "cell_type": "code",
   "metadata": {
    "tags": [],
    "cell_id": "00015-bad898c7-fc21-4a9e-ae26-e9dbd391f198",
    "deepnote_to_be_reexecuted": false,
    "source_hash": "b11f28ed",
    "execution_start": 1620443828624,
    "execution_millis": 8,
    "deepnote_cell_type": "code"
   },
   "source": "train_df.shape, val_df.shape",
   "execution_count": null,
   "outputs": [
    {
     "output_type": "execute_result",
     "execution_count": 33,
     "data": {
      "text/plain": "((1734, 9), (724, 9))"
     },
     "metadata": {}
    }
   ]
  },
  {
   "cell_type": "code",
   "metadata": {
    "tags": [],
    "cell_id": "00015-5486eb9a-e97c-4cc9-9709-071db6eec196",
    "deepnote_to_be_reexecuted": false,
    "source_hash": "52daed32",
    "execution_start": 1620443817259,
    "execution_millis": 6,
    "deepnote_cell_type": "code"
   },
   "source": "# let's examine the counts to make sure things are somewhat balanced\ntrain_df.label.value_counts()",
   "execution_count": null,
   "outputs": [
    {
     "output_type": "execute_result",
     "execution_count": 31,
     "data": {
      "text/plain": "2    524\n3    426\n1    412\n0    372\nName: label, dtype: int64"
     },
     "metadata": {}
    }
   ]
  },
  {
   "cell_type": "code",
   "metadata": {
    "tags": [],
    "cell_id": "00016-ceb02fd5-0e63-443f-a26c-1c64690f84db",
    "deepnote_to_be_reexecuted": false,
    "source_hash": "5b5eca52",
    "execution_start": 1620443823094,
    "execution_millis": 7,
    "deepnote_cell_type": "code"
   },
   "source": "val_df.label.value_counts()",
   "execution_count": null,
   "outputs": [
    {
     "output_type": "execute_result",
     "execution_count": 32,
     "data": {
      "text/plain": "2    231\n3    174\n1    166\n0    153\nName: label, dtype: int64"
     },
     "metadata": {}
    }
   ]
  },
  {
   "cell_type": "markdown",
   "source": "Now we need to create the data generators. A training and validation data generators to be precise. Since we are dealing with large images (512, 512, 3) we cannot read them into memory. We will use the tensorflow ImageDataGenerator class, which will also handle data augmentation for us. Because we do not have the image tensors in memory, we will use the **flow_from_directory** method. However, before that we will need to save the images in separate folders, depending on what class label they have been assigned. ",
   "metadata": {
    "tags": [],
    "cell_id": "00011-0b267406-3ab6-4dc4-b1a9-294b62271225",
    "deepnote_cell_type": "markdown"
   }
  },
  {
   "cell_type": "code",
   "metadata": {
    "tags": [],
    "cell_id": "00012-88fb155f-1db1-4f28-bf11-007da6095227",
    "deepnote_to_be_reexecuted": false,
    "source_hash": "11848d",
    "execution_start": 1620443952846,
    "execution_millis": 2,
    "deepnote_cell_type": "code"
   },
   "source": "# do not touch the original data, we will create a separate directory for this\n# the plan is to go through every image file in the dataframe, open it and save it in a new location\n# following the pattern grouped_images/<class_label>/<image_name>.jpg\n\ndef group_images(dataframe, split_name: str):\n    # use the path module for easier manipulation of directories\n    grouped_images_dir = Path(f\"grouped_images_{split_name}\")\n\n    # only do this if the directory does not exist\n    # otherwise assume this has already been done\n    if grouped_images_dir.exists() is False:\n        grouped_images_dir.mkdir()\n\n        # iterate over each image and save in location as described above\n        for i, row in dataframe.iterrows():\n            print(f\"{i} / {len(dataframe)}\", end=\"\\r\")\n            filename = row.filename\n            label = str(int(row.label))\n            save_dir = grouped_images_dir / label\n            if save_dir.exists() is False:\n                save_dir.mkdir()\n            \n            img = image.load_img(train_images_dir / filename)\n            img.save(save_dir / filename)\n    print(\"Stored images in {grouped_images_dir}.\")",
   "execution_count": null,
   "outputs": []
  },
  {
   "cell_type": "code",
   "metadata": {
    "tags": [],
    "cell_id": "00020-9a091e96-06b8-4df3-9c56-bbfeb2be2721",
    "deepnote_to_be_reexecuted": false,
    "source_hash": "b0995efb",
    "execution_start": 1620443970658,
    "execution_millis": 26974,
    "deepnote_cell_type": "code"
   },
   "source": "group_images(train_df, \"train\")\ngroup_images(val_df, \"val\")",
   "execution_count": null,
   "outputs": [
    {
     "name": "stdout",
     "text": "",
     "output_type": "stream"
    },
    {
     "name": "stdout",
     "text": "",
     "output_type": "stream"
    },
    {
     "name": "stdout",
     "text": "",
     "output_type": "stream"
    },
    {
     "name": "stdout",
     "text": "",
     "output_type": "stream"
    },
    {
     "name": "stdout",
     "text": "",
     "output_type": "stream"
    },
    {
     "name": "stdout",
     "text": "",
     "output_type": "stream"
    },
    {
     "name": "stdout",
     "text": "",
     "output_type": "stream"
    },
    {
     "name": "stdout",
     "text": "",
     "output_type": "stream"
    },
    {
     "name": "stdout",
     "text": "",
     "output_type": "stream"
    },
    {
     "name": "stdout",
     "text": "",
     "output_type": "stream"
    },
    {
     "name": "stdout",
     "text": "",
     "output_type": "stream"
    },
    {
     "name": "stdout",
     "text": "",
     "output_type": "stream"
    },
    {
     "name": "stdout",
     "text": "",
     "output_type": "stream"
    },
    {
     "name": "stdout",
     "text": "",
     "output_type": "stream"
    },
    {
     "name": "stdout",
     "text": "",
     "output_type": "stream"
    },
    {
     "name": "stdout",
     "text": "",
     "output_type": "stream"
    },
    {
     "name": "stdout",
     "text": "",
     "output_type": "stream"
    },
    {
     "name": "stdout",
     "text": "",
     "output_type": "stream"
    },
    {
     "name": "stdout",
     "text": "",
     "output_type": "stream"
    },
    {
     "name": "stdout",
     "text": "",
     "output_type": "stream"
    },
    {
     "name": "stdout",
     "text": "",
     "output_type": "stream"
    },
    {
     "name": "stdout",
     "text": "",
     "output_type": "stream"
    },
    {
     "name": "stdout",
     "text": "",
     "output_type": "stream"
    },
    {
     "name": "stdout",
     "text": "",
     "output_type": "stream"
    },
    {
     "name": "stdout",
     "text": "",
     "output_type": "stream"
    },
    {
     "name": "stdout",
     "text": "",
     "output_type": "stream"
    },
    {
     "name": "stdout",
     "text": "",
     "output_type": "stream"
    },
    {
     "name": "stdout",
     "text": "",
     "output_type": "stream"
    },
    {
     "name": "stdout",
     "text": "",
     "output_type": "stream"
    },
    {
     "name": "stdout",
     "text": "",
     "output_type": "stream"
    },
    {
     "name": "stdout",
     "text": "",
     "output_type": "stream"
    },
    {
     "name": "stdout",
     "text": "",
     "output_type": "stream"
    },
    {
     "name": "stdout",
     "text": "",
     "output_type": "stream"
    },
    {
     "name": "stdout",
     "text": "",
     "output_type": "stream"
    },
    {
     "name": "stdout",
     "text": "",
     "output_type": "stream"
    },
    {
     "name": "stdout",
     "text": "",
     "output_type": "stream"
    },
    {
     "name": "stdout",
     "text": "",
     "output_type": "stream"
    },
    {
     "name": "stdout",
     "text": "",
     "output_type": "stream"
    },
    {
     "name": "stdout",
     "text": "",
     "output_type": "stream"
    },
    {
     "name": "stdout",
     "text": "",
     "output_type": "stream"
    },
    {
     "name": "stdout",
     "text": "",
     "output_type": "stream"
    },
    {
     "name": "stdout",
     "text": "",
     "output_type": "stream"
    },
    {
     "name": "stdout",
     "text": "",
     "output_type": "stream"
    },
    {
     "name": "stdout",
     "text": "",
     "output_type": "stream"
    },
    {
     "name": "stdout",
     "text": "",
     "output_type": "stream"
    },
    {
     "name": "stdout",
     "text": "Done.\nDone.\n",
     "output_type": "stream"
    }
   ]
  },
  {
   "cell_type": "markdown",
   "source": "Now we instantiate the data generator with the data augmentations, such as horizontal and vertical flipping,\nzoom, rotation and etc.",
   "metadata": {
    "tags": [],
    "cell_id": "00013-0b9d55e5-f1a7-40cb-a61a-da88e815e66d",
    "deepnote_cell_type": "markdown"
   }
  },
  {
   "cell_type": "code",
   "metadata": {
    "tags": [],
    "cell_id": "00012-7738de73-92e2-4680-858d-75c2f64bdb76",
    "deepnote_to_be_reexecuted": false,
    "source_hash": "ea1129bc",
    "execution_start": 1620444120292,
    "execution_millis": 215,
    "deepnote_cell_type": "code"
   },
   "source": "# Create a Data Generator\ndata_gen_args = dict( \n    rotation_range=10.,\n    width_shift_range=0.05,\n    height_shift_range=0.05,\n    zoom_range=0.2,\n    channel_shift_range=0.05,\n    horizontal_flip=True,\n    vertical_flip=True,\n    fill_mode='constant',\n    data_format=\"channels_last\",\n)\n\nimage_datagen = ImageDataGenerator(**data_gen_args)\n\ntrain_gen = image_datagen.flow_from_directory(\n    \"grouped_images_train\",\n    target_size=(512, 512),\n    color_mode=\"rgb\",\n    batch_size=16\n)\n\nval_gen = image_datagen.flow_from_directory(\n    \"grouped_images_val\",\n    target_size=(512, 512),\n    color_mode=\"rgb\",\n    batch_size=16\n)",
   "execution_count": null,
   "outputs": [
    {
     "name": "stdout",
     "text": "Found 1734 images belonging to 4 classes.\nFound 724 images belonging to 4 classes.\n",
     "output_type": "stream"
    }
   ]
  },
  {
   "cell_type": "markdown",
   "source": "# Building The Model",
   "metadata": {
    "tags": [],
    "cell_id": "00015-98630e6b-2c9b-4b65-a03b-8b8c7ae8eb82",
    "deepnote_cell_type": "text-cell-h1"
   }
  },
  {
   "cell_type": "markdown",
   "source": "For the model we will go with something similar to the AlexNet we built in class with some minor modifications. Namely increasing the number of filters and adding additional dense layers with non-linear activations at the top of the model.",
   "metadata": {
    "tags": [],
    "cell_id": "00017-67a8b8e4-b5b8-4b35-a207-fa37245e0317",
    "deepnote_cell_type": "markdown"
   }
  },
  {
   "cell_type": "code",
   "metadata": {
    "tags": [],
    "cell_id": "00015-51833a4d-0895-48d2-99cb-fc6ad7bd2911",
    "deepnote_to_be_reexecuted": false,
    "source_hash": "a3b86aa5",
    "execution_start": 1620444124010,
    "execution_millis": 1,
    "deepnote_cell_type": "code"
   },
   "source": "class AlexNet(Sequential):\n   def __init__(self, input_shape, num_classes):\n    super().__init__()\n\n    self.add(layers.Conv2D(128, kernel_size=(11,11), strides= 4,\n                    padding= 'valid', activation= 'relu',\n                    input_shape= input_shape, kernel_initializer= 'he_normal'))\n    self.add(layers.BatchNormalization())\n    self.add(layers.MaxPooling2D(pool_size=(3,3), strides= (2,2),\n                          padding= 'valid', data_format= None))\n    \n    \n    self.add(layers.Conv2D(256, kernel_size=(5,5), strides= 1,\n                    padding= 'same', activation= 'relu',\n                    kernel_initializer= 'he_normal'))\n    self.add(layers.BatchNormalization())\n    self.add(layers.MaxPooling2D(pool_size=(3,3), strides= (2,2),\n                          padding= 'valid', data_format= None)) \n    \n\n    self.add(layers.Conv2D(512, kernel_size=(3,3), strides= 1,\n                    padding= 'same', activation= 'relu',\n                    kernel_initializer= 'he_normal'))\n    self.add(layers.BatchNormalization())\n    \n    self.add(layers.Conv2D(512, kernel_size=(3,3), strides= 1,\n                    padding= 'same', activation= 'relu',\n                    kernel_initializer= 'he_normal'))\n    self.add(layers.BatchNormalization())\n    \n    self.add(layers.Conv2D(512, kernel_size=(3,3), strides= 1,\n                    padding= 'same', activation= 'relu',\n                    kernel_initializer= 'he_normal'))\n    self.add(layers.BatchNormalization())\n    \n    self.add(layers.MaxPooling2D(pool_size=(3,3), strides= (2,2),\n                          padding= 'valid', data_format= None))\n    \n\n    self.add(layers.Flatten())\n\n    # add non-linear activations to increase model complexity\n    self.add(layers.Dense(512, activation=\"relu\"))\n    self.add(layers.Dense(512, activation=\"relu\"))\n    self.add(layers.Dense(512))\n\n    self.add(layers.Dense(num_classes, activation='softmax'))\n\n    self.compile(optimizer= tf.keras.optimizers.Adam(learning_rate=0.01),\n                loss='categorical_crossentropy',\n                metrics=['accuracy'])",
   "execution_count": null,
   "outputs": []
  },
  {
   "cell_type": "code",
   "metadata": {
    "tags": [],
    "cell_id": "00019-f79423b8-a40c-47d1-8bc5-4d647efc8e19",
    "deepnote_to_be_reexecuted": false,
    "source_hash": "89e8d65e",
    "execution_start": 1620444126445,
    "execution_millis": 300,
    "deepnote_cell_type": "code"
   },
   "source": "# instantiate the model and view the summary\nalex_net = AlexNet((512, 512, 3), 4)\nalex_net.summary()",
   "execution_count": null,
   "outputs": [
    {
     "name": "stdout",
     "text": "Model: \"alex_net\"\n_________________________________________________________________\nLayer (type)                 Output Shape              Param #   \n=================================================================\nconv2d (Conv2D)              (None, 126, 126, 96)      34944     \n_________________________________________________________________\nbatch_normalization (BatchNo (None, 126, 126, 96)      384       \n_________________________________________________________________\nmax_pooling2d (MaxPooling2D) (None, 62, 62, 96)        0         \n_________________________________________________________________\nconv2d_1 (Conv2D)            (None, 62, 62, 256)       614656    \n_________________________________________________________________\nbatch_normalization_1 (Batch (None, 62, 62, 256)       1024      \n_________________________________________________________________\nmax_pooling2d_1 (MaxPooling2 (None, 30, 30, 256)       0         \n_________________________________________________________________\nconv2d_2 (Conv2D)            (None, 30, 30, 384)       885120    \n_________________________________________________________________\nbatch_normalization_2 (Batch (None, 30, 30, 384)       1536      \n_________________________________________________________________\nconv2d_3 (Conv2D)            (None, 30, 30, 384)       1327488   \n_________________________________________________________________\nbatch_normalization_3 (Batch (None, 30, 30, 384)       1536      \n_________________________________________________________________\nconv2d_4 (Conv2D)            (None, 30, 30, 256)       884992    \n_________________________________________________________________\nbatch_normalization_4 (Batch (None, 30, 30, 256)       1024      \n_________________________________________________________________\nmax_pooling2d_2 (MaxPooling2 (None, 14, 14, 256)       0         \n_________________________________________________________________\nflatten (Flatten)            (None, 50176)             0         \n_________________________________________________________________\ndense (Dense)                (None, 4)                 200708    \n=================================================================\nTotal params: 3,953,412\nTrainable params: 3,950,660\nNon-trainable params: 2,752\n_________________________________________________________________\n",
     "output_type": "stream"
    }
   ]
  },
  {
   "cell_type": "code",
   "metadata": {
    "tags": [],
    "cell_id": "00020-e11ba465-24bc-4359-aa56-aecf696dc0df",
    "deepnote_to_be_reexecuted": false,
    "source_hash": "3534f5a4",
    "execution_start": 1620444129738,
    "execution_millis": 2,
    "deepnote_cell_type": "code"
   },
   "source": "# plot the model so we can visualize what is going on\n# tf.keras.utils.plot_model(alex_net, \"alex_net.png\", show_dtype=True, show_layer_names=True, show_shapes=True)",
   "execution_count": null,
   "outputs": []
  },
  {
   "cell_type": "markdown",
   "source": "# Training The Model",
   "metadata": {
    "tags": [],
    "cell_id": "00021-8bce5f45-b700-4185-bcdc-6dc340ca22e2",
    "deepnote_cell_type": "text-cell-h1"
   }
  },
  {
   "cell_type": "code",
   "metadata": {
    "tags": [],
    "cell_id": "00021-4b44a2f9-604c-4169-8f3b-beb365d54b18",
    "deepnote_to_be_reexecuted": false,
    "source_hash": "9e03771",
    "execution_start": 1620443020563,
    "execution_millis": 76453,
    "deepnote_cell_type": "code"
   },
   "source": "alex_net.fit(train_gen, epochs=10, validation_data=val_gen)",
   "execution_count": null,
   "outputs": [
    {
     "name": "stdout",
     "text": " 62/215 [=======>......................] - ETA: 2:46 - loss: 69.2809 - accuracy: 0.3829",
     "output_type": "stream"
    },
    {
     "output_type": "error",
     "ename": "KeyboardInterrupt",
     "evalue": "",
     "traceback": [
      "\u001b[0;31m---------------------------------------------------------------------------\u001b[0m",
      "\u001b[0;31mKeyboardInterrupt\u001b[0m                         Traceback (most recent call last)",
      "\u001b[0;32m<ipython-input-18-d4d8afcdf7d6>\u001b[0m in \u001b[0;36m<module>\u001b[0;34m\u001b[0m\n\u001b[0;32m----> 1\u001b[0;31m \u001b[0malex_net\u001b[0m\u001b[0;34m.\u001b[0m\u001b[0mfit\u001b[0m\u001b[0;34m(\u001b[0m\u001b[0mgenerator\u001b[0m\u001b[0;34m,\u001b[0m \u001b[0mepochs\u001b[0m\u001b[0;34m=\u001b[0m\u001b[0;36m1\u001b[0m\u001b[0;34m)\u001b[0m\u001b[0;34m\u001b[0m\u001b[0;34m\u001b[0m\u001b[0m\n\u001b[0m",
      "\u001b[0;32m/usr/local/lib/python3.6/dist-packages/tensorflow/python/keras/engine/training.py\u001b[0m in \u001b[0;36mfit\u001b[0;34m(self, x, y, batch_size, epochs, verbose, callbacks, validation_split, validation_data, shuffle, class_weight, sample_weight, initial_epoch, steps_per_epoch, validation_steps, validation_batch_size, validation_freq, max_queue_size, workers, use_multiprocessing)\u001b[0m\n\u001b[1;32m   1098\u001b[0m                 _r=1):\n\u001b[1;32m   1099\u001b[0m               \u001b[0mcallbacks\u001b[0m\u001b[0;34m.\u001b[0m\u001b[0mon_train_batch_begin\u001b[0m\u001b[0;34m(\u001b[0m\u001b[0mstep\u001b[0m\u001b[0;34m)\u001b[0m\u001b[0;34m\u001b[0m\u001b[0;34m\u001b[0m\u001b[0m\n\u001b[0;32m-> 1100\u001b[0;31m               \u001b[0mtmp_logs\u001b[0m \u001b[0;34m=\u001b[0m \u001b[0mself\u001b[0m\u001b[0;34m.\u001b[0m\u001b[0mtrain_function\u001b[0m\u001b[0;34m(\u001b[0m\u001b[0miterator\u001b[0m\u001b[0;34m)\u001b[0m\u001b[0;34m\u001b[0m\u001b[0;34m\u001b[0m\u001b[0m\n\u001b[0m\u001b[1;32m   1101\u001b[0m               \u001b[0;32mif\u001b[0m \u001b[0mdata_handler\u001b[0m\u001b[0;34m.\u001b[0m\u001b[0mshould_sync\u001b[0m\u001b[0;34m:\u001b[0m\u001b[0;34m\u001b[0m\u001b[0;34m\u001b[0m\u001b[0m\n\u001b[1;32m   1102\u001b[0m                 \u001b[0mcontext\u001b[0m\u001b[0;34m.\u001b[0m\u001b[0masync_wait\u001b[0m\u001b[0;34m(\u001b[0m\u001b[0;34m)\u001b[0m\u001b[0;34m\u001b[0m\u001b[0;34m\u001b[0m\u001b[0m\n",
      "\u001b[0;32m/usr/local/lib/python3.6/dist-packages/tensorflow/python/eager/def_function.py\u001b[0m in \u001b[0;36m__call__\u001b[0;34m(self, *args, **kwds)\u001b[0m\n\u001b[1;32m    826\u001b[0m     \u001b[0mtracing_count\u001b[0m \u001b[0;34m=\u001b[0m \u001b[0mself\u001b[0m\u001b[0;34m.\u001b[0m\u001b[0mexperimental_get_tracing_count\u001b[0m\u001b[0;34m(\u001b[0m\u001b[0;34m)\u001b[0m\u001b[0;34m\u001b[0m\u001b[0;34m\u001b[0m\u001b[0m\n\u001b[1;32m    827\u001b[0m     \u001b[0;32mwith\u001b[0m \u001b[0mtrace\u001b[0m\u001b[0;34m.\u001b[0m\u001b[0mTrace\u001b[0m\u001b[0;34m(\u001b[0m\u001b[0mself\u001b[0m\u001b[0;34m.\u001b[0m\u001b[0m_name\u001b[0m\u001b[0;34m)\u001b[0m \u001b[0;32mas\u001b[0m \u001b[0mtm\u001b[0m\u001b[0;34m:\u001b[0m\u001b[0;34m\u001b[0m\u001b[0;34m\u001b[0m\u001b[0m\n\u001b[0;32m--> 828\u001b[0;31m       \u001b[0mresult\u001b[0m \u001b[0;34m=\u001b[0m \u001b[0mself\u001b[0m\u001b[0;34m.\u001b[0m\u001b[0m_call\u001b[0m\u001b[0;34m(\u001b[0m\u001b[0;34m*\u001b[0m\u001b[0margs\u001b[0m\u001b[0;34m,\u001b[0m \u001b[0;34m**\u001b[0m\u001b[0mkwds\u001b[0m\u001b[0;34m)\u001b[0m\u001b[0;34m\u001b[0m\u001b[0;34m\u001b[0m\u001b[0m\n\u001b[0m\u001b[1;32m    829\u001b[0m       \u001b[0mcompiler\u001b[0m \u001b[0;34m=\u001b[0m \u001b[0;34m\"xla\"\u001b[0m \u001b[0;32mif\u001b[0m \u001b[0mself\u001b[0m\u001b[0;34m.\u001b[0m\u001b[0m_experimental_compile\u001b[0m \u001b[0;32melse\u001b[0m \u001b[0;34m\"nonXla\"\u001b[0m\u001b[0;34m\u001b[0m\u001b[0;34m\u001b[0m\u001b[0m\n\u001b[1;32m    830\u001b[0m       \u001b[0mnew_tracing_count\u001b[0m \u001b[0;34m=\u001b[0m \u001b[0mself\u001b[0m\u001b[0;34m.\u001b[0m\u001b[0mexperimental_get_tracing_count\u001b[0m\u001b[0;34m(\u001b[0m\u001b[0;34m)\u001b[0m\u001b[0;34m\u001b[0m\u001b[0;34m\u001b[0m\u001b[0m\n",
      "\u001b[0;32m/usr/local/lib/python3.6/dist-packages/tensorflow/python/eager/def_function.py\u001b[0m in \u001b[0;36m_call\u001b[0;34m(self, *args, **kwds)\u001b[0m\n\u001b[1;32m    853\u001b[0m       \u001b[0;31m# In this case we have created variables on the first call, so we run the\u001b[0m\u001b[0;34m\u001b[0m\u001b[0;34m\u001b[0m\u001b[0;34m\u001b[0m\u001b[0m\n\u001b[1;32m    854\u001b[0m       \u001b[0;31m# defunned version which is guaranteed to never create variables.\u001b[0m\u001b[0;34m\u001b[0m\u001b[0;34m\u001b[0m\u001b[0;34m\u001b[0m\u001b[0m\n\u001b[0;32m--> 855\u001b[0;31m       \u001b[0;32mreturn\u001b[0m \u001b[0mself\u001b[0m\u001b[0;34m.\u001b[0m\u001b[0m_stateless_fn\u001b[0m\u001b[0;34m(\u001b[0m\u001b[0;34m*\u001b[0m\u001b[0margs\u001b[0m\u001b[0;34m,\u001b[0m \u001b[0;34m**\u001b[0m\u001b[0mkwds\u001b[0m\u001b[0;34m)\u001b[0m  \u001b[0;31m# pylint: disable=not-callable\u001b[0m\u001b[0;34m\u001b[0m\u001b[0;34m\u001b[0m\u001b[0m\n\u001b[0m\u001b[1;32m    856\u001b[0m     \u001b[0;32melif\u001b[0m \u001b[0mself\u001b[0m\u001b[0;34m.\u001b[0m\u001b[0m_stateful_fn\u001b[0m \u001b[0;32mis\u001b[0m \u001b[0;32mnot\u001b[0m \u001b[0;32mNone\u001b[0m\u001b[0;34m:\u001b[0m\u001b[0;34m\u001b[0m\u001b[0;34m\u001b[0m\u001b[0m\n\u001b[1;32m    857\u001b[0m       \u001b[0;31m# Release the lock early so that multiple threads can perform the call\u001b[0m\u001b[0;34m\u001b[0m\u001b[0;34m\u001b[0m\u001b[0;34m\u001b[0m\u001b[0m\n",
      "\u001b[0;32m/usr/local/lib/python3.6/dist-packages/tensorflow/python/eager/function.py\u001b[0m in \u001b[0;36m__call__\u001b[0;34m(self, *args, **kwargs)\u001b[0m\n\u001b[1;32m   2941\u001b[0m        filtered_flat_args) = self._maybe_define_function(args, kwargs)\n\u001b[1;32m   2942\u001b[0m     return graph_function._call_flat(\n\u001b[0;32m-> 2943\u001b[0;31m         filtered_flat_args, captured_inputs=graph_function.captured_inputs)  # pylint: disable=protected-access\n\u001b[0m\u001b[1;32m   2944\u001b[0m \u001b[0;34m\u001b[0m\u001b[0m\n\u001b[1;32m   2945\u001b[0m   \u001b[0;34m@\u001b[0m\u001b[0mproperty\u001b[0m\u001b[0;34m\u001b[0m\u001b[0;34m\u001b[0m\u001b[0m\n",
      "\u001b[0;32m/usr/local/lib/python3.6/dist-packages/tensorflow/python/eager/function.py\u001b[0m in \u001b[0;36m_call_flat\u001b[0;34m(self, args, captured_inputs, cancellation_manager)\u001b[0m\n\u001b[1;32m   1917\u001b[0m       \u001b[0;31m# No tape is watching; skip to running the function.\u001b[0m\u001b[0;34m\u001b[0m\u001b[0;34m\u001b[0m\u001b[0;34m\u001b[0m\u001b[0m\n\u001b[1;32m   1918\u001b[0m       return self._build_call_outputs(self._inference_function.call(\n\u001b[0;32m-> 1919\u001b[0;31m           ctx, args, cancellation_manager=cancellation_manager))\n\u001b[0m\u001b[1;32m   1920\u001b[0m     forward_backward = self._select_forward_and_backward_functions(\n\u001b[1;32m   1921\u001b[0m         \u001b[0margs\u001b[0m\u001b[0;34m,\u001b[0m\u001b[0;34m\u001b[0m\u001b[0;34m\u001b[0m\u001b[0m\n",
      "\u001b[0;32m/usr/local/lib/python3.6/dist-packages/tensorflow/python/eager/function.py\u001b[0m in \u001b[0;36mcall\u001b[0;34m(self, ctx, args, cancellation_manager)\u001b[0m\n\u001b[1;32m    558\u001b[0m               \u001b[0minputs\u001b[0m\u001b[0;34m=\u001b[0m\u001b[0margs\u001b[0m\u001b[0;34m,\u001b[0m\u001b[0;34m\u001b[0m\u001b[0;34m\u001b[0m\u001b[0m\n\u001b[1;32m    559\u001b[0m               \u001b[0mattrs\u001b[0m\u001b[0;34m=\u001b[0m\u001b[0mattrs\u001b[0m\u001b[0;34m,\u001b[0m\u001b[0;34m\u001b[0m\u001b[0;34m\u001b[0m\u001b[0m\n\u001b[0;32m--> 560\u001b[0;31m               ctx=ctx)\n\u001b[0m\u001b[1;32m    561\u001b[0m         \u001b[0;32melse\u001b[0m\u001b[0;34m:\u001b[0m\u001b[0;34m\u001b[0m\u001b[0;34m\u001b[0m\u001b[0m\n\u001b[1;32m    562\u001b[0m           outputs = execute.execute_with_cancellation(\n",
      "\u001b[0;32m/usr/local/lib/python3.6/dist-packages/tensorflow/python/eager/execute.py\u001b[0m in \u001b[0;36mquick_execute\u001b[0;34m(op_name, num_outputs, inputs, attrs, ctx, name)\u001b[0m\n\u001b[1;32m     58\u001b[0m     \u001b[0mctx\u001b[0m\u001b[0;34m.\u001b[0m\u001b[0mensure_initialized\u001b[0m\u001b[0;34m(\u001b[0m\u001b[0;34m)\u001b[0m\u001b[0;34m\u001b[0m\u001b[0;34m\u001b[0m\u001b[0m\n\u001b[1;32m     59\u001b[0m     tensors = pywrap_tfe.TFE_Py_Execute(ctx._handle, device_name, op_name,\n\u001b[0;32m---> 60\u001b[0;31m                                         inputs, attrs, num_outputs)\n\u001b[0m\u001b[1;32m     61\u001b[0m   \u001b[0;32mexcept\u001b[0m \u001b[0mcore\u001b[0m\u001b[0;34m.\u001b[0m\u001b[0m_NotOkStatusException\u001b[0m \u001b[0;32mas\u001b[0m \u001b[0me\u001b[0m\u001b[0;34m:\u001b[0m\u001b[0;34m\u001b[0m\u001b[0;34m\u001b[0m\u001b[0m\n\u001b[1;32m     62\u001b[0m     \u001b[0;32mif\u001b[0m \u001b[0mname\u001b[0m \u001b[0;32mis\u001b[0m \u001b[0;32mnot\u001b[0m \u001b[0;32mNone\u001b[0m\u001b[0;34m:\u001b[0m\u001b[0;34m\u001b[0m\u001b[0;34m\u001b[0m\u001b[0m\n",
      "\u001b[0;31mKeyboardInterrupt\u001b[0m: "
     ]
    }
   ]
  },
  {
   "cell_type": "code",
   "metadata": {
    "tags": [],
    "cell_id": "00023-241f6a10-1643-4288-a67e-01b839b1fae1",
    "deepnote_cell_type": "code"
   },
   "source": "",
   "execution_count": null,
   "outputs": []
  },
  {
   "cell_type": "markdown",
   "source": "<a style='text-decoration:none;line-height:16px;display:flex;color:#5B5B62;padding:10px;justify-content:end;' href='https://deepnote.com?utm_source=created-in-deepnote-cell&projectId=0b0632bc-61bc-48c3-a5dd-6b5d85e1e005' target=\"_blank\">\n<img alt='Created in deepnote.com' style='display:inline;max-height:16px;margin:0px;margin-right:7.5px;' src='data:image/svg+xml;base64,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' > </img>\nCreated in <span style='font-weight:600;margin-left:4px;'>Deepnote</span></a>",
   "metadata": {
    "tags": [],
    "created_in_deepnote_cell": true,
    "deepnote_cell_type": "markdown"
   }
  }
 ],
 "nbformat": 4,
 "nbformat_minor": 2,
 "metadata": {
  "orig_nbformat": 2,
  "deepnote": {
   "is_reactive": false
  },
  "deepnote_notebook_id": "c5098d00-bdd0-4b93-8707-d3d4fd19f8ac",
  "deepnote_execution_queue": []
 }
}